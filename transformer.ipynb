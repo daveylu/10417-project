{
  "cells": [
    {
      "cell_type": "code",
      "execution_count": null,
      "metadata": {
        "id": "ZG-_DTpi4ev_"
      },
      "outputs": [],
      "source": [
        "import torch\n",
        "from torch.utils.data import Dataset, DataLoader\n",
        "import numpy as np\n",
        "import pickle\n",
        "import torch.nn as nn\n",
        "from tqdm import tqdm\n",
        "from torch.autograd import Variable"
      ]
    },
    {
      "cell_type": "markdown",
      "metadata": {},
      "source": [
        "# Loading the Data and Creating the `Dataset` and `DataLoader`"
      ]
    },
    {
      "cell_type": "markdown",
      "metadata": {},
      "source": [
        "Defining the `Dataset` and `DataLoader`"
      ]
    },
    {
      "cell_type": "code",
      "execution_count": null,
      "metadata": {
        "id": "tuL6_xBM7ozM"
      },
      "outputs": [],
      "source": [
        "class NeuralActivityDataset(Dataset):\n",
        "\n",
        "    def __init__(self, n_triplets, train_data, train_labels, train, device):\n",
        "\n",
        "        self.n_triplets = n_triplets\n",
        "        self.train_data = train_data\n",
        "        # self.train_data = self.train_data.to(device)\n",
        "        self.train_triplets = self.generate_triplets(train_labels)\n",
        "        # self.train_triplets = torch.Tensor(self.train_triplets).to(device)\n",
        "        self.train = train\n",
        "\n",
        "    def generate_triplets(self, labels):\n",
        "        triplets = []\n",
        "\n",
        "        for n in range(self.n_triplets):\n",
        "            idx = np.random.randint(0, labels.size(0))\n",
        "\n",
        "            idx_matches = np.where(labels.numpy() == labels[idx].numpy())[0] # Get the row indices of the matching classes\n",
        "            idx_no_matches = np.where(labels.numpy() != labels[idx].numpy())[0] # Get the row indices of mismatch classes\n",
        "\n",
        "            idx_a, idx_p = np.random.choice(idx_matches, 2, replace = False) # returns array consisting of two indices -> ints\n",
        "            idx_n = np.random.choice(idx_no_matches, 1)[0] # return an index -> int not a numpy array of [int]\n",
        "\n",
        "            triplets.append([idx_a, idx_p, idx_n])\n",
        "\n",
        "        return np.array(triplets)\n",
        "\n",
        "    def __getitem__(self, index):\n",
        "\n",
        "        if self.train:\n",
        "            t = self.train_triplets[index]\n",
        "            a, p, n = self.train_data[t[0]], self.train_data[t[1]], self.train_data[t[2]]\n",
        "\n",
        "        return a, p, n\n",
        "\n",
        "    def __len__(self):\n",
        "        if self.train:\n",
        "            return self.train_triplets.shape[0]\n"
      ]
    },
    {
      "cell_type": "markdown",
      "metadata": {},
      "source": [
        "Loading the Data"
      ]
    },
    {
      "cell_type": "code",
      "execution_count": null,
      "metadata": {
        "colab": {
          "base_uri": "https://localhost:8080/"
        },
        "id": "Ul81_BfHLjpS",
        "outputId": "2cd901d6-ccd0-40c0-df43-4dafe7b773ae"
      },
      "outputs": [
        {
          "name": "stdout",
          "output_type": "stream",
          "text": [
            "Using cuda device\n"
          ]
        }
      ],
      "source": [
        "file = open(\"/content/drive/MyDrive/Deep Learning Project/spike_data/entire_dict.pkl\", 'rb')\n",
        "data = pickle.load(file)\n",
        "\n",
        "device = (\n",
        "    \"cuda\"\n",
        "    if torch.cuda.is_available()\n",
        "    else \"mps\"\n",
        "    if torch.backends.mps.is_available()\n",
        "    else \"cpu\"\n",
        ")\n",
        "print(f\"Using {device} device\")\n",
        "\n",
        "train_labels = torch.Tensor(np.array(list(data.keys()), dtype=np.float32)[:,1])\n",
        "train_data = torch.Tensor(np.array(list(data.values()), dtype=np.float32))"
      ]
    },
    {
      "cell_type": "markdown",
      "metadata": {},
      "source": [
        "Initializing our `Dataset` and `DataLoader`"
      ]
    },
    {
      "cell_type": "code",
      "execution_count": null,
      "metadata": {
        "id": "PodG_bhPLpQ7"
      },
      "outputs": [],
      "source": [
        "neural_activity_dataset = NeuralActivityDataset(n_triplets=16384, train_data=train_data, train_labels=train_labels, train=True, device=device)"
      ]
    },
    {
      "cell_type": "code",
      "execution_count": null,
      "metadata": {
        "id": "UHvKsK92kaAI"
      },
      "outputs": [],
      "source": [
        "dataloader = DataLoader(neural_activity_dataset, batch_size=64, shuffle=True, num_workers=1, pin_memory=True)"
      ]
    },
    {
      "cell_type": "markdown",
      "metadata": {},
      "source": [
        "# Creating the Transformer"
      ]
    },
    {
      "cell_type": "code",
      "execution_count": null,
      "metadata": {
        "id": "x2ooHTcYLGse"
      },
      "outputs": [],
      "source": [
        "class TransformerModel(nn.Module):\n",
        "    def __init__(self, device, len_seq = 93, d_model = 50, nhead = 5, feed_forward_dim = 1024, num_layers=4, dropout = 0.4, final_embed_dim = 8):\n",
        "        super().__init__()\n",
        "        self.d_model = d_model\n",
        "        self.encoder_layer = nn.TransformerEncoderLayer(d_model=d_model, nhead=nhead, batch_first=True,\n",
        "                                                        dim_feedforward=feed_forward_dim, dropout=dropout, device=device)\n",
        "\n",
        "        self.transformer_encoder = nn.TransformerEncoder(self.encoder_layer, num_layers = num_layers)\n",
        "        self.mlp = nn.Linear(d_model*len_seq, final_embed_dim, device=device)\n",
        "\n",
        "    def forward(self, source, train):\n",
        "        if train:\n",
        "            transformer_out = self.transformer_encoder(source)\n",
        "            embeddings = self.mlp(transformer_out.flatten(start_dim = 1))\n",
        "\n",
        "            # transformer_out_p = self.transformer_encoder(source[1])\n",
        "            # embeddings_p = self.mlp(transformer_out_p.flatten(start_dim = 1))\n",
        "\n",
        "            # transformer_out_n = self.transformer_encoder(source[2])\n",
        "            # embeddings_n = self.mlp(transformer_out_n.flatten(start_dim = 1))\n",
        "\n",
        "            return embeddings #, embeddings_p, embeddings_n\n",
        "        else:\n",
        "            transformer_out = self.transformer_encoder(source)\n",
        "            embeddings = self.mlp(transformer_out.flatten(start_dim=1))\n",
        "\n",
        "            return embeddings\n"
      ]
    },
    {
      "cell_type": "markdown",
      "metadata": {},
      "source": [
        "# Training the Transformer"
      ]
    },
    {
      "cell_type": "markdown",
      "metadata": {},
      "source": [
        "Declaring Constants"
      ]
    },
    {
      "cell_type": "code",
      "execution_count": null,
      "metadata": {
        "colab": {
          "base_uri": "https://localhost:8080/"
        },
        "id": "7UZB6pXb7xIR",
        "outputId": "6353a4af-7a01-4c24-f4c1-08b19e8c5e98"
      },
      "outputs": [
        {
          "name": "stdout",
          "output_type": "stream",
          "text": [
            "Using cuda device\n"
          ]
        },
        {
          "name": "stderr",
          "output_type": "stream",
          "text": [
            "/usr/local/lib/python3.10/dist-packages/torch/nn/modules/transformer.py:282: UserWarning: enable_nested_tensor is True, but self.use_nested_tensor is False because encoder_layer.self_attn.num_heads is odd\n",
            "  warnings.warn(f\"enable_nested_tensor is True, but self.use_nested_tensor is False because {why_not_sparsity_fast_path}\")\n"
          ]
        }
      ],
      "source": [
        "final_embed_dim = 8\n",
        "transformer_model = TransformerModel(final_embed_dim = final_embed_dim, device=device)\n",
        "transformer_model.cuda()\n",
        "optimizer = torch.optim.Adam(transformer_model.parameters(), lr = 0.001)\n",
        "epochs = 50\n",
        "triplet_loss = nn.TripletMarginLoss(margin=1.0, p=2, eps=1e-7)"
      ]
    },
    {
      "cell_type": "markdown",
      "metadata": {},
      "source": [
        "Training Loop"
      ]
    },
    {
      "cell_type": "code",
      "execution_count": null,
      "metadata": {
        "id": "ZcuxgQYsuzLV"
      },
      "outputs": [],
      "source": [
        "def train(epochs, epoch_loss):\n",
        "    transformer_model.train()\n",
        "    batch_loss = []\n",
        "    for batch, (data_a, data_p, data_n) in enumerate(dataloader):\n",
        "        if device == \"cuda\":\n",
        "            data_a, data_p, data_n = data_a.cuda(), data_p.cuda(), data_n.cuda()\n",
        "        data_a, data_p, data_n = Variable(data_a), Variable(data_p), Variable(data_n)\n",
        "        optimizer.zero_grad()\n",
        "        embeddings_a, embeddings_p, embeddings_n = transformer_model(data_a, train = True), transformer_model(data_p, train = True), transformer_model(data_n, train = True)\n",
        "        loss = triplet_loss(embeddings_a, embeddings_p, embeddings_n)\n",
        "        loss.backward()\n",
        "        optimizer.step()\n",
        "\n",
        "        batch_loss.append(loss.cpu().detach().numpy())\n",
        "    epoch_loss.append(np.mean(batch_loss))"
      ]
    },
    {
      "cell_type": "code",
      "execution_count": null,
      "metadata": {
        "colab": {
          "base_uri": "https://localhost:8080/"
        },
        "id": "-EN5vl5EwNiU",
        "outputId": "edd5273f-0087-4c52-fd79-6053f1a8eccd"
      },
      "outputs": [
        {
          "name": "stderr",
          "output_type": "stream",
          "text": [
            "\r  0%|          | 0/50 [00:00<?, ?it/s]"
          ]
        },
        {
          "name": "stdout",
          "output_type": "stream",
          "text": [
            "1\n"
          ]
        },
        {
          "name": "stderr",
          "output_type": "stream",
          "text": [
            "\r  2%|▏         | 1/50 [00:21<17:52, 21.88s/it]"
          ]
        },
        {
          "name": "stdout",
          "output_type": "stream",
          "text": [
            "2\n"
          ]
        },
        {
          "name": "stderr",
          "output_type": "stream",
          "text": [
            "\r  4%|▍         | 2/50 [00:40<15:48, 19.75s/it]"
          ]
        },
        {
          "name": "stdout",
          "output_type": "stream",
          "text": [
            "3\n"
          ]
        },
        {
          "name": "stderr",
          "output_type": "stream",
          "text": [
            "\r  6%|▌         | 3/50 [00:56<14:21, 18.32s/it]"
          ]
        },
        {
          "name": "stdout",
          "output_type": "stream",
          "text": [
            "4\n"
          ]
        },
        {
          "name": "stderr",
          "output_type": "stream",
          "text": [
            "\r  8%|▊         | 4/50 [01:13<13:27, 17.55s/it]"
          ]
        },
        {
          "name": "stdout",
          "output_type": "stream",
          "text": [
            "5\n"
          ]
        },
        {
          "name": "stderr",
          "output_type": "stream",
          "text": [
            "\r 10%|█         | 5/50 [01:29<12:55, 17.24s/it]"
          ]
        },
        {
          "name": "stdout",
          "output_type": "stream",
          "text": [
            "6\n"
          ]
        },
        {
          "name": "stderr",
          "output_type": "stream",
          "text": [
            "\r 12%|█▏        | 6/50 [01:46<12:36, 17.19s/it]"
          ]
        },
        {
          "name": "stdout",
          "output_type": "stream",
          "text": [
            "7\n"
          ]
        },
        {
          "name": "stderr",
          "output_type": "stream",
          "text": [
            "\r 14%|█▍        | 7/50 [02:03<12:10, 17.00s/it]"
          ]
        },
        {
          "name": "stdout",
          "output_type": "stream",
          "text": [
            "8\n"
          ]
        },
        {
          "name": "stderr",
          "output_type": "stream",
          "text": [
            "\r 16%|█▌        | 8/50 [02:20<11:49, 16.88s/it]"
          ]
        },
        {
          "name": "stdout",
          "output_type": "stream",
          "text": [
            "9\n"
          ]
        },
        {
          "name": "stderr",
          "output_type": "stream",
          "text": [
            "\r 18%|█▊        | 9/50 [02:36<11:30, 16.83s/it]"
          ]
        },
        {
          "name": "stdout",
          "output_type": "stream",
          "text": [
            "10\n"
          ]
        },
        {
          "name": "stderr",
          "output_type": "stream",
          "text": [
            "\r 20%|██        | 10/50 [02:53<11:12, 16.82s/it]"
          ]
        },
        {
          "name": "stdout",
          "output_type": "stream",
          "text": [
            "11\n"
          ]
        },
        {
          "name": "stderr",
          "output_type": "stream",
          "text": [
            "\r 22%|██▏       | 11/50 [03:10<10:55, 16.81s/it]"
          ]
        },
        {
          "name": "stdout",
          "output_type": "stream",
          "text": [
            "12\n"
          ]
        },
        {
          "name": "stderr",
          "output_type": "stream",
          "text": [
            "\r 24%|██▍       | 12/50 [03:27<10:44, 16.97s/it]"
          ]
        },
        {
          "name": "stdout",
          "output_type": "stream",
          "text": [
            "13\n"
          ]
        },
        {
          "name": "stderr",
          "output_type": "stream",
          "text": [
            "\r 26%|██▌       | 13/50 [03:44<10:26, 16.94s/it]"
          ]
        },
        {
          "name": "stdout",
          "output_type": "stream",
          "text": [
            "14\n"
          ]
        },
        {
          "name": "stderr",
          "output_type": "stream",
          "text": [
            "\r 28%|██▊       | 14/50 [04:01<10:10, 16.96s/it]"
          ]
        },
        {
          "name": "stdout",
          "output_type": "stream",
          "text": [
            "15\n"
          ]
        },
        {
          "name": "stderr",
          "output_type": "stream",
          "text": [
            "\r 30%|███       | 15/50 [04:18<09:55, 17.00s/it]"
          ]
        },
        {
          "name": "stdout",
          "output_type": "stream",
          "text": [
            "16\n"
          ]
        },
        {
          "name": "stderr",
          "output_type": "stream",
          "text": [
            "\r 32%|███▏      | 16/50 [04:35<09:38, 17.03s/it]"
          ]
        },
        {
          "name": "stdout",
          "output_type": "stream",
          "text": [
            "17\n"
          ]
        },
        {
          "name": "stderr",
          "output_type": "stream",
          "text": [
            "\r 34%|███▍      | 17/50 [04:52<09:22, 17.04s/it]"
          ]
        },
        {
          "name": "stdout",
          "output_type": "stream",
          "text": [
            "18\n"
          ]
        },
        {
          "name": "stderr",
          "output_type": "stream",
          "text": [
            "\r 36%|███▌      | 18/50 [05:10<09:06, 17.06s/it]"
          ]
        },
        {
          "name": "stdout",
          "output_type": "stream",
          "text": [
            "19\n"
          ]
        },
        {
          "name": "stderr",
          "output_type": "stream",
          "text": [
            "\r 38%|███▊      | 19/50 [05:27<08:51, 17.16s/it]"
          ]
        },
        {
          "name": "stdout",
          "output_type": "stream",
          "text": [
            "20\n"
          ]
        },
        {
          "name": "stderr",
          "output_type": "stream",
          "text": [
            "\r 40%|████      | 20/50 [05:44<08:32, 17.08s/it]"
          ]
        },
        {
          "name": "stdout",
          "output_type": "stream",
          "text": [
            "21\n"
          ]
        },
        {
          "name": "stderr",
          "output_type": "stream",
          "text": [
            "\r 42%|████▏     | 21/50 [06:01<08:13, 17.02s/it]"
          ]
        },
        {
          "name": "stdout",
          "output_type": "stream",
          "text": [
            "22\n"
          ]
        },
        {
          "name": "stderr",
          "output_type": "stream",
          "text": [
            "\r 44%|████▍     | 22/50 [06:18<07:56, 17.01s/it]"
          ]
        },
        {
          "name": "stdout",
          "output_type": "stream",
          "text": [
            "23\n"
          ]
        },
        {
          "name": "stderr",
          "output_type": "stream",
          "text": [
            "\r 46%|████▌     | 23/50 [06:35<07:39, 17.00s/it]"
          ]
        },
        {
          "name": "stdout",
          "output_type": "stream",
          "text": [
            "24\n"
          ]
        },
        {
          "name": "stderr",
          "output_type": "stream",
          "text": [
            "\r 48%|████▊     | 24/50 [06:52<07:22, 17.00s/it]"
          ]
        },
        {
          "name": "stdout",
          "output_type": "stream",
          "text": [
            "25\n"
          ]
        },
        {
          "name": "stderr",
          "output_type": "stream",
          "text": [
            "\r 50%|█████     | 25/50 [07:09<07:05, 17.01s/it]"
          ]
        },
        {
          "name": "stdout",
          "output_type": "stream",
          "text": [
            "26\n"
          ]
        },
        {
          "name": "stderr",
          "output_type": "stream",
          "text": [
            "\r 52%|█████▏    | 26/50 [07:26<06:47, 16.98s/it]"
          ]
        },
        {
          "name": "stdout",
          "output_type": "stream",
          "text": [
            "27\n"
          ]
        },
        {
          "name": "stderr",
          "output_type": "stream",
          "text": [
            "\r 54%|█████▍    | 27/50 [07:43<06:30, 16.98s/it]"
          ]
        },
        {
          "name": "stdout",
          "output_type": "stream",
          "text": [
            "28\n"
          ]
        },
        {
          "name": "stderr",
          "output_type": "stream",
          "text": [
            "\r 56%|█████▌    | 28/50 [08:00<06:14, 17.01s/it]"
          ]
        },
        {
          "name": "stdout",
          "output_type": "stream",
          "text": [
            "29\n"
          ]
        },
        {
          "name": "stderr",
          "output_type": "stream",
          "text": [
            "\r 58%|█████▊    | 29/50 [08:17<05:58, 17.05s/it]"
          ]
        },
        {
          "name": "stdout",
          "output_type": "stream",
          "text": [
            "30\n"
          ]
        },
        {
          "name": "stderr",
          "output_type": "stream",
          "text": [
            "\r 60%|██████    | 30/50 [08:34<05:41, 17.07s/it]"
          ]
        },
        {
          "name": "stdout",
          "output_type": "stream",
          "text": [
            "31\n"
          ]
        },
        {
          "name": "stderr",
          "output_type": "stream",
          "text": [
            "\r 62%|██████▏   | 31/50 [08:51<05:24, 17.09s/it]"
          ]
        },
        {
          "name": "stdout",
          "output_type": "stream",
          "text": [
            "32\n"
          ]
        },
        {
          "name": "stderr",
          "output_type": "stream",
          "text": [
            "\r 64%|██████▍   | 32/50 [09:08<05:07, 17.11s/it]"
          ]
        },
        {
          "name": "stdout",
          "output_type": "stream",
          "text": [
            "33\n"
          ]
        },
        {
          "name": "stderr",
          "output_type": "stream",
          "text": [
            "\r 66%|██████▌   | 33/50 [09:25<04:50, 17.09s/it]"
          ]
        },
        {
          "name": "stdout",
          "output_type": "stream",
          "text": [
            "34\n"
          ]
        },
        {
          "name": "stderr",
          "output_type": "stream",
          "text": [
            "\r 68%|██████▊   | 34/50 [09:43<04:34, 17.17s/it]"
          ]
        },
        {
          "name": "stdout",
          "output_type": "stream",
          "text": [
            "35\n"
          ]
        },
        {
          "name": "stderr",
          "output_type": "stream",
          "text": [
            "\r 70%|███████   | 35/50 [10:00<04:17, 17.16s/it]"
          ]
        },
        {
          "name": "stdout",
          "output_type": "stream",
          "text": [
            "36\n"
          ]
        },
        {
          "name": "stderr",
          "output_type": "stream",
          "text": [
            "\r 72%|███████▏  | 36/50 [10:17<03:59, 17.11s/it]"
          ]
        },
        {
          "name": "stdout",
          "output_type": "stream",
          "text": [
            "37\n"
          ]
        },
        {
          "name": "stderr",
          "output_type": "stream",
          "text": [
            "\r 74%|███████▍  | 37/50 [10:34<03:42, 17.08s/it]"
          ]
        },
        {
          "name": "stdout",
          "output_type": "stream",
          "text": [
            "38\n"
          ]
        },
        {
          "name": "stderr",
          "output_type": "stream",
          "text": [
            "\r 76%|███████▌  | 38/50 [10:51<03:24, 17.08s/it]"
          ]
        },
        {
          "name": "stdout",
          "output_type": "stream",
          "text": [
            "39\n"
          ]
        },
        {
          "name": "stderr",
          "output_type": "stream",
          "text": [
            "\r 78%|███████▊  | 39/50 [11:08<03:07, 17.06s/it]"
          ]
        },
        {
          "name": "stdout",
          "output_type": "stream",
          "text": [
            "40\n"
          ]
        },
        {
          "name": "stderr",
          "output_type": "stream",
          "text": [
            "\r 80%|████████  | 40/50 [11:25<02:50, 17.02s/it]"
          ]
        },
        {
          "name": "stdout",
          "output_type": "stream",
          "text": [
            "41\n"
          ]
        },
        {
          "name": "stderr",
          "output_type": "stream",
          "text": [
            "\r 82%|████████▏ | 41/50 [11:42<02:33, 17.01s/it]"
          ]
        },
        {
          "name": "stdout",
          "output_type": "stream",
          "text": [
            "42\n"
          ]
        },
        {
          "name": "stderr",
          "output_type": "stream",
          "text": [
            "\r 84%|████████▍ | 42/50 [11:59<02:16, 17.00s/it]"
          ]
        },
        {
          "name": "stdout",
          "output_type": "stream",
          "text": [
            "43\n"
          ]
        },
        {
          "name": "stderr",
          "output_type": "stream",
          "text": [
            "\r 86%|████████▌ | 43/50 [12:16<01:59, 17.00s/it]"
          ]
        },
        {
          "name": "stdout",
          "output_type": "stream",
          "text": [
            "44\n"
          ]
        },
        {
          "name": "stderr",
          "output_type": "stream",
          "text": [
            "\r 88%|████████▊ | 44/50 [12:33<01:42, 17.01s/it]"
          ]
        },
        {
          "name": "stdout",
          "output_type": "stream",
          "text": [
            "45\n"
          ]
        },
        {
          "name": "stderr",
          "output_type": "stream",
          "text": [
            "\r 90%|█████████ | 45/50 [12:50<01:25, 17.07s/it]"
          ]
        },
        {
          "name": "stdout",
          "output_type": "stream",
          "text": [
            "46\n"
          ]
        },
        {
          "name": "stderr",
          "output_type": "stream",
          "text": [
            "\r 92%|█████████▏| 46/50 [13:07<01:08, 17.11s/it]"
          ]
        },
        {
          "name": "stdout",
          "output_type": "stream",
          "text": [
            "47\n"
          ]
        },
        {
          "name": "stderr",
          "output_type": "stream",
          "text": [
            "\r 94%|█████████▍| 47/50 [13:24<00:51, 17.14s/it]"
          ]
        },
        {
          "name": "stdout",
          "output_type": "stream",
          "text": [
            "48\n"
          ]
        },
        {
          "name": "stderr",
          "output_type": "stream",
          "text": [
            "\r 96%|█████████▌| 48/50 [13:42<00:34, 17.13s/it]"
          ]
        },
        {
          "name": "stdout",
          "output_type": "stream",
          "text": [
            "49\n"
          ]
        },
        {
          "name": "stderr",
          "output_type": "stream",
          "text": [
            "\r 98%|█████████▊| 49/50 [13:59<00:17, 17.12s/it]"
          ]
        },
        {
          "name": "stdout",
          "output_type": "stream",
          "text": [
            "50\n"
          ]
        },
        {
          "name": "stderr",
          "output_type": "stream",
          "text": [
            "100%|██████████| 50/50 [14:16<00:00, 17.12s/it]\n"
          ]
        }
      ],
      "source": [
        "epoch_loss = []\n",
        "for epoch in tqdm(range(1, epochs+1)):\n",
        "    print(epoch)\n",
        "    train(epoch, epoch_loss)"
      ]
    },
    {
      "cell_type": "code",
      "execution_count": null,
      "metadata": {
        "id": "8ts9DK6U9oyc"
      },
      "outputs": [],
      "source": [
        "torch.save(transformer_model.state_dict(), \"/content/drive/MyDrive/Deep Learning Project/transformer_model.pkl\")"
      ]
    },
    {
      "cell_type": "markdown",
      "metadata": {},
      "source": [
        "Plotting Losses"
      ]
    },
    {
      "cell_type": "code",
      "execution_count": null,
      "metadata": {
        "colab": {
          "base_uri": "https://localhost:8080/",
          "height": 472
        },
        "id": "rsbT9ZvoqziL",
        "outputId": "b903cbd8-6205-443e-8fe8-e134af7f83d3"
      },
      "outputs": [
        {
          "data": {
            "image/png": "[encoded data removed]",
            "text/plain": [
              "<Figure size 640x480 with 1 Axes>"
            ]
          },
          "metadata": {},
          "output_type": "display_data"
        }
      ],
      "source": [
        "from matplotlib import pyplot as plt\n",
        "\n",
        "plt.plot(epoch_loss, label = \"TripletMarginLoss\")\n",
        "plt.xlabel(\"epochs\")\n",
        "plt.ylabel(\"TripletLoss\")\n",
        "plt.title(\"TripletLoss vs Epochs\")\n",
        "plt.legend()\n",
        "plt.show()"
      ]
    },
    {
      "cell_type": "markdown",
      "metadata": {},
      "source": [
        "# Evaluating the Transformer"
      ]
    },
    {
      "cell_type": "markdown",
      "metadata": {},
      "source": [
        "Loading the Transformer"
      ]
    },
    {
      "cell_type": "code",
      "execution_count": null,
      "metadata": {
        "colab": {
          "base_uri": "https://localhost:8080/"
        },
        "id": "MR7jjPguepvj",
        "outputId": "e634ab6b-5365-416f-ccbc-3be6d3580d80"
      },
      "outputs": [
        {
          "data": {
            "text/plain": [
              "TransformerModel(\n",
              "  (encoder_layer): TransformerEncoderLayer(\n",
              "    (self_attn): MultiheadAttention(\n",
              "      (out_proj): NonDynamicallyQuantizableLinear(in_features=50, out_features=50, bias=True)\n",
              "    )\n",
              "    (linear1): Linear(in_features=50, out_features=1024, bias=True)\n",
              "    (dropout): Dropout(p=0.4, inplace=False)\n",
              "    (linear2): Linear(in_features=1024, out_features=50, bias=True)\n",
              "    (norm1): LayerNorm((50,), eps=1e-05, elementwise_affine=True)\n",
              "    (norm2): LayerNorm((50,), eps=1e-05, elementwise_affine=True)\n",
              "    (dropout1): Dropout(p=0.4, inplace=False)\n",
              "    (dropout2): Dropout(p=0.4, inplace=False)\n",
              "  )\n",
              "  (transformer_encoder): TransformerEncoder(\n",
              "    (layers): ModuleList(\n",
              "      (0-3): 4 x TransformerEncoderLayer(\n",
              "        (self_attn): MultiheadAttention(\n",
              "          (out_proj): NonDynamicallyQuantizableLinear(in_features=50, out_features=50, bias=True)\n",
              "        )\n",
              "        (linear1): Linear(in_features=50, out_features=1024, bias=True)\n",
              "        (dropout): Dropout(p=0.4, inplace=False)\n",
              "        (linear2): Linear(in_features=1024, out_features=50, bias=True)\n",
              "        (norm1): LayerNorm((50,), eps=1e-05, elementwise_affine=True)\n",
              "        (norm2): LayerNorm((50,), eps=1e-05, elementwise_affine=True)\n",
              "        (dropout1): Dropout(p=0.4, inplace=False)\n",
              "        (dropout2): Dropout(p=0.4, inplace=False)\n",
              "      )\n",
              "    )\n",
              "  )\n",
              "  (mlp): Linear(in_features=4650, out_features=8, bias=True)\n",
              ")"
            ]
          },
          "execution_count": 14,
          "metadata": {},
          "output_type": "execute_result"
        }
      ],
      "source": [
        "transformer_model.load_state_dict(torch.load(\"/content/drive/MyDrive/Deep Learning Project/transformer_model.pkl\"))\n",
        "transformer_model.eval()"
      ]
    },
    {
      "cell_type": "markdown",
      "metadata": {},
      "source": [
        "Declaring a `Dataset` for Evaluation Purposes"
      ]
    },
    {
      "cell_type": "code",
      "execution_count": null,
      "metadata": {
        "id": "eM2H7txCtkBt"
      },
      "outputs": [],
      "source": [
        "class TestDataset(Dataset):\n",
        "    def __init__(self, test_data, test_labels):\n",
        "        self.test_data = test_data\n",
        "        self.test_labels = test_data\n",
        "\n",
        "    def __getitem__(self, idx):\n",
        "        return self.test_data[idx], self.test_labels[idx]\n",
        "\n",
        "    def __len__(self):\n",
        "        return self.test_labels.shape[0]\n",
        "\n",
        "test_data, test_labels = train_data, train_labels\n",
        "test_dataset = TestDataset(test_data, test_labels)\n",
        "test_dataloader = DataLoader(test_dataset)"
      ]
    },
    {
      "cell_type": "code",
      "execution_count": null,
      "metadata": {
        "colab": {
          "base_uri": "https://localhost:8080/"
        },
        "id": "iA5PR-TLrtTF",
        "outputId": "8bb290bb-7451-495e-8079-5a73e4e002cd"
      },
      "outputs": [
        {
          "data": {
            "text/plain": [
              "torch.Size([17018, 93, 50])"
            ]
          },
          "execution_count": 30,
          "metadata": {},
          "output_type": "execute_result"
        }
      ],
      "source": [
        "train_data.shape"
      ]
    },
    {
      "cell_type": "code",
      "execution_count": null,
      "metadata": {
        "colab": {
          "base_uri": "https://localhost:8080/"
        },
        "id": "XRV7YQzUrkrf",
        "outputId": "796d3afd-37c7-40f6-d8a5-2814c4bc4a97"
      },
      "outputs": [
        {
          "data": {
            "text/plain": [
              "torch.Size([1, 4650])"
            ]
          },
          "execution_count": 24,
          "metadata": {},
          "output_type": "execute_result"
        }
      ],
      "source": [
        "train_data[0].flatten(start_dim=1).reshape(1,-1).shape"
      ]
    },
    {
      "cell_type": "markdown",
      "metadata": {},
      "source": [
        "Evaluating the Performance of the Transformer Encodings with a SVM"
      ]
    },
    {
      "cell_type": "code",
      "execution_count": null,
      "metadata": {
        "id": "QBaVVDX1COM3"
      },
      "outputs": [],
      "source": [
        "from sklearn.model_selection import cross_val_score\n",
        "from sklearn.metrics import ConfusionMatrixDisplay\n",
        "from sklearn.svm import SVC\n",
        "\n",
        "def score(model, classifier, dataloader, labels, output_dims):\n",
        "    model.eval()\n",
        "    model = model.to(device)\n",
        "    encodings = np.empty((1, output_dims))\n",
        "\n",
        "    for data in dataloader:\n",
        "        data = data.to(device)\n",
        "        encoded = model(data.unsqueeze(0), train=False)\n",
        "        encoded = encoded.detach().cpu().numpy()\n",
        "        encodings = np.append(encodings, encoded, axis=0)\n",
        "\n",
        "    encodings = encodings[1:]\n",
        "\n",
        "    clf = classifier()\n",
        "    score = cross_val_score(clf, encodings, labels, scoring=\"accuracy\", cv=5, n_jobs=-1)\n",
        "    avg_score = score.mean()\n",
        "    print(f\"Average Accuracy: {avg_score}\")\n",
        "    return avg_score\n",
        "\n",
        "def confusion_matrix(model, classifier, dataloader, labels, output_dims):\n",
        "    model.eval()\n",
        "    model = model.to(device)\n",
        "    encodings = np.empty((1, output_dims))\n",
        "\n",
        "    for data in dataloader:\n",
        "        data = data.to(device)\n",
        "        encoded = model(data.unsqueeze(0), train=False)\n",
        "        encoded = encoded.detach().cpu().numpy()\n",
        "        encodings = np.append(encodings, encoded, axis=0)\n",
        "\n",
        "    encodings = encodings[1:]\n",
        "\n",
        "    clf = classifier()\n",
        "    clf.fit(encodings, labels)\n",
        "    ConfusionMatrixDisplay.from_estimator(clf, encodings, labels)\n",
        "    plt.show()"
      ]
    },
    {
      "cell_type": "code",
      "execution_count": null,
      "metadata": {
        "colab": {
          "base_uri": "https://localhost:8080/"
        },
        "id": "CtEWCOqCHCgn",
        "outputId": "477f7286-d117-4b44-ab15-55553ef5580c"
      },
      "outputs": [
        {
          "name": "stdout",
          "output_type": "stream",
          "text": [
            "Average Accuracy: 0.9824304296374976\n"
          ]
        },
        {
          "data": {
            "text/plain": [
              "0.9824304296374976"
            ]
          },
          "execution_count": 33,
          "metadata": {},
          "output_type": "execute_result"
        }
      ],
      "source": [
        "score(transformer_model, SVC, test_data, test_labels, final_embed_dim)"
      ]
    },
    {
      "cell_type": "code",
      "execution_count": null,
      "metadata": {
        "colab": {
          "base_uri": "https://localhost:8080/",
          "height": 449
        },
        "id": "uonzsArUKkfB",
        "outputId": "939b4419-f3ed-455c-e26d-a9b6dc9e6929"
      },
      "outputs": [
        {
          "data": {
            "image/png": "[encoded data removed]",
            "text/plain": [
              "<Figure size 640x480 with 2 Axes>"
            ]
          },
          "metadata": {},
          "output_type": "display_data"
        }
      ],
      "source": [
        "confusion_matrix(transformer_model, SVC, test_data, test_labels, final_embed_dim)"
      ]
    }
  ],
  "metadata": {
    "accelerator": "GPU",
    "colab": {
      "gpuType": "T4",
      "provenance": []
    },
    "kernelspec": {
      "display_name": "Python 3",
      "name": "python3"
    },
    "language_info": {
      "name": "python"
    }
  },
  "nbformat": 4,
  "nbformat_minor": 0
}
